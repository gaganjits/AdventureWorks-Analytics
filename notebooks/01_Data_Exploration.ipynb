{
 "cells": [
  {
   "cell_type": "markdown",
   "metadata": {},
   "source": [
    "# AdventureWorks Data Exploration\n",
    "\n",
    "This notebook provides initial exploration of the AdventureWorks dataset.\n",
    "\n",
    "## Datasets Available:\n",
    "- **Sales Data**: 56,046 transactions (2015-2017)\n",
    "- **Customers**: 18,148 customers\n",
    "- **Products**: 293 products\n",
    "- **Returns**: 1,809 return records\n",
    "- **Territories**: 10 sales territories\n",
    "- **Product Categories & Subcategories**: Product hierarchy"
   ]
  },
  {
   "cell_type": "code",
   "execution_count": null,
   "metadata": {},
   "outputs": [],
   "source": [
    "# Import libraries\n",
    "import pandas as pd\n",
    "import numpy as np\n",
    "import matplotlib.pyplot as plt\n",
    "import seaborn as sns\n",
    "from datetime import datetime\n",
    "import warnings\n",
    "warnings.filterwarnings('ignore')\n",
    "\n",
    "# Set visualization style\n",
    "sns.set_style('whitegrid')\n",
    "plt.rcParams['figure.figsize'] = (12, 6)\n",
    "\n",
    "print(\"Libraries imported successfully!\")"
   ]
  },
  {
   "cell_type": "markdown",
   "metadata": {},
   "source": [
    "## 1. Load Datasets"
   ]
  },
  {
   "cell_type": "code",
   "execution_count": null,
   "metadata": {},
   "outputs": [],
   "source": [
    "# Load merged sales data\n",
    "sales = pd.read_csv('../data/processed/AdventureWorks_Sales_Merged.csv', parse_dates=['OrderDate', 'StockDate'])\n",
    "\n",
    "# Load other datasets\n",
    "customers = pd.read_csv('../data/raw/converted_AdventureWorks_Customers.csv')\n",
    "products = pd.read_csv('../data/raw/AdventureWorks_Products.csv')\n",
    "returns = pd.read_csv('../data/raw/converted_AdventureWorks_Returns.csv', parse_dates=['ReturnDate'])\n",
    "territories = pd.read_csv('../data/raw/AdventureWorks_Territories.csv')\n",
    "categories = pd.read_csv('../data/raw/AdventureWorks_Product_Categories.csv')\n",
    "subcategories = pd.read_csv('../data/raw/AdventureWorks_Product_Subcategories.csv')\n",
    "\n",
    "print(f\"Sales: {sales.shape}\")\n",
    "print(f\"Customers: {customers.shape}\")\n",
    "print(f\"Products: {products.shape}\")\n",
    "print(f\"Returns: {returns.shape}\")\n",
    "print(f\"Territories: {territories.shape}\")"
   ]
  },
  {
   "cell_type": "markdown",
   "metadata": {},
   "source": [
    "## 2. Sales Data Overview"
   ]
  },
  {
   "cell_type": "code",
   "execution_count": null,
   "metadata": {},
   "outputs": [],
   "source": [
    "# Basic info\n",
    "print(\"Sales Data Info:\")\n",
    "print(sales.info())\n",
    "print(\"\\nFirst few rows:\")\n",
    "sales.head()"
   ]
  },
  {
   "cell_type": "code",
   "execution_count": null,
   "metadata": {},
   "outputs": [],
   "source": [
    "# Summary statistics\n",
    "print(\"Sales Summary Statistics:\")\n",
    "sales.describe()"
   ]
  },
  {
   "cell_type": "code",
   "execution_count": null,
   "metadata": {},
   "outputs": [],
   "source": [
    "# Check for missing values\n",
    "print(\"Missing Values:\")\n",
    "print(sales.isnull().sum())\n",
    "print(f\"\\nTotal missing: {sales.isnull().sum().sum()}\")"
   ]
  },
  {
   "cell_type": "markdown",
   "metadata": {},
   "source": [
    "## 3. Enrich Sales with Product Information"
   ]
  },
  {
   "cell_type": "code",
   "execution_count": null,
   "metadata": {},
   "outputs": [],
   "source": [
    "# Merge products with subcategories and categories\n",
    "products_full = products.merge(subcategories, on='ProductSubcategoryKey', how='left')\n",
    "products_full = products_full.merge(categories, on='ProductCategoryKey', how='left')\n",
    "\n",
    "# Merge sales with enriched products\n",
    "sales_enriched = sales.merge(products_full, on='ProductKey', how='left')\n",
    "sales_enriched = sales_enriched.merge(territories, left_on='TerritoryKey', right_on='SalesTerritoryKey', how='left')\n",
    "\n",
    "# Calculate revenue\n",
    "sales_enriched['Revenue'] = sales_enriched['OrderQuantity'] * sales_enriched['ProductPrice']\n",
    "sales_enriched['Profit'] = sales_enriched['Revenue'] - (sales_enriched['OrderQuantity'] * sales_enriched['ProductCost'])\n",
    "\n",
    "print(f\"Enriched Sales Shape: {sales_enriched.shape}\")\n",
    "print(f\"\\nNew columns: {[col for col in sales_enriched.columns if col not in sales.columns]}\")\n",
    "sales_enriched.head(3)"
   ]
  },
  {
   "cell_type": "markdown",
   "metadata": {},
   "source": [
    "## 4. Key Business Metrics"
   ]
  },
  {
   "cell_type": "code",
   "execution_count": null,
   "metadata": {},
   "outputs": [],
   "source": [
    "print(\"=\"*70)\n",
    "print(\"KEY BUSINESS METRICS\")\n",
    "print(\"=\"*70)\n",
    "\n",
    "print(f\"\\nTotal Revenue: ${sales_enriched['Revenue'].sum():,.2f}\")\n",
    "print(f\"Total Profit: ${sales_enriched['Profit'].sum():,.2f}\")\n",
    "print(f\"Profit Margin: {(sales_enriched['Profit'].sum() / sales_enriched['Revenue'].sum() * 100):.2f}%\")\n",
    "\n",
    "print(f\"\\nTotal Orders: {sales_enriched['OrderNumber'].nunique():,}\")\n",
    "print(f\"Total Customers: {sales_enriched['CustomerKey'].nunique():,}\")\n",
    "print(f\"Total Products Sold: {sales_enriched['ProductKey'].nunique():,}\")\n",
    "\n",
    "print(f\"\\nAverage Order Value: ${sales_enriched.groupby('OrderNumber')['Revenue'].sum().mean():,.2f}\")\n",
    "print(f\"Average Items per Order: {sales_enriched.groupby('OrderNumber')['OrderQuantity'].sum().mean():.2f}\")\n",
    "\n",
    "print(f\"\\nTotal Returns: {returns.shape[0]:,}\")\n",
    "print(f\"Return Rate: {(returns['ReturnQuantity'].sum() / sales_enriched['OrderQuantity'].sum() * 100):.2f}%\")"
   ]
  },
  {
   "cell_type": "markdown",
   "metadata": {},
   "source": [
    "## 5. Sales Trends Over Time"
   ]
  },
  {
   "cell_type": "code",
   "execution_count": null,
   "metadata": {},
   "outputs": [],
   "source": [
    "# Monthly sales trend\n",
    "sales_enriched['YearMonth'] = sales_enriched['OrderDate'].dt.to_period('M')\n",
    "monthly_sales = sales_enriched.groupby('YearMonth').agg({\n",
    "    'Revenue': 'sum',\n",
    "    'Profit': 'sum',\n",
    "    'OrderNumber': 'nunique',\n",
    "    'OrderQuantity': 'sum'\n",
    "}).reset_index()\n",
    "\n",
    "monthly_sales['YearMonth'] = monthly_sales['YearMonth'].astype(str)\n",
    "\n",
    "# Plot revenue trend\n",
    "fig, axes = plt.subplots(2, 2, figsize=(16, 10))\n",
    "\n",
    "# Revenue\n",
    "axes[0, 0].plot(monthly_sales['YearMonth'], monthly_sales['Revenue'], marker='o', linewidth=2)\n",
    "axes[0, 0].set_title('Monthly Revenue Trend', fontsize=14, fontweight='bold')\n",
    "axes[0, 0].set_xlabel('Month')\n",
    "axes[0, 0].set_ylabel('Revenue ($)')\n",
    "axes[0, 0].tick_params(axis='x', rotation=45)\n",
    "axes[0, 0].grid(True, alpha=0.3)\n",
    "\n",
    "# Profit\n",
    "axes[0, 1].plot(monthly_sales['YearMonth'], monthly_sales['Profit'], marker='o', color='green', linewidth=2)\n",
    "axes[0, 1].set_title('Monthly Profit Trend', fontsize=14, fontweight='bold')\n",
    "axes[0, 1].set_xlabel('Month')\n",
    "axes[0, 1].set_ylabel('Profit ($)')\n",
    "axes[0, 1].tick_params(axis='x', rotation=45)\n",
    "axes[0, 1].grid(True, alpha=0.3)\n",
    "\n",
    "# Orders\n",
    "axes[1, 0].plot(monthly_sales['YearMonth'], monthly_sales['OrderNumber'], marker='o', color='orange', linewidth=2)\n",
    "axes[1, 0].set_title('Monthly Order Count', fontsize=14, fontweight='bold')\n",
    "axes[1, 0].set_xlabel('Month')\n",
    "axes[1, 0].set_ylabel('Number of Orders')\n",
    "axes[1, 0].tick_params(axis='x', rotation=45)\n",
    "axes[1, 0].grid(True, alpha=0.3)\n",
    "\n",
    "# Quantity\n",
    "axes[1, 1].plot(monthly_sales['YearMonth'], monthly_sales['OrderQuantity'], marker='o', color='red', linewidth=2)\n",
    "axes[1, 1].set_title('Monthly Quantity Sold', fontsize=14, fontweight='bold')\n",
    "axes[1, 1].set_xlabel('Month')\n",
    "axes[1, 1].set_ylabel('Quantity')\n",
    "axes[1, 1].tick_params(axis='x', rotation=45)\n",
    "axes[1, 1].grid(True, alpha=0.3)\n",
    "\n",
    "plt.tight_layout()\n",
    "plt.savefig('../outputs/visualizations/sales_trends.png', dpi=300, bbox_inches='tight')\n",
    "plt.show()\n",
    "\n",
    "print(\"✓ Sales trends chart saved!\")"
   ]
  },
  {
   "cell_type": "markdown",
   "metadata": {},
   "source": [
    "## 6. Category Analysis"
   ]
  },
  {
   "cell_type": "code",
   "execution_count": null,
   "metadata": {},
   "outputs": [],
   "source": [
    "# Revenue by category\n",
    "category_performance = sales_enriched.groupby('CategoryName').agg({\n",
    "    'Revenue': 'sum',\n",
    "    'Profit': 'sum',\n",
    "    'OrderQuantity': 'sum',\n",
    "    'OrderNumber': 'nunique'\n",
    "}).round(2)\n",
    "\n",
    "category_performance['Profit_Margin_%'] = (category_performance['Profit'] / category_performance['Revenue'] * 100).round(2)\n",
    "category_performance = category_performance.sort_values('Revenue', ascending=False)\n",
    "\n",
    "print(\"Category Performance:\")\n",
    "print(category_performance)\n",
    "\n",
    "# Visualize\n",
    "fig, axes = plt.subplots(1, 2, figsize=(14, 6))\n",
    "\n",
    "# Revenue by category\n",
    "category_performance['Revenue'].plot(kind='bar', ax=axes[0], color='steelblue')\n",
    "axes[0].set_title('Revenue by Product Category', fontsize=14, fontweight='bold')\n",
    "axes[0].set_ylabel('Revenue ($)')\n",
    "axes[0].set_xlabel('')\n",
    "axes[0].tick_params(axis='x', rotation=45)\n",
    "\n",
    "# Profit margin by category\n",
    "category_performance['Profit_Margin_%'].plot(kind='bar', ax=axes[1], color='green')\n",
    "axes[1].set_title('Profit Margin by Product Category', fontsize=14, fontweight='bold')\n",
    "axes[1].set_ylabel('Profit Margin (%)')\n",
    "axes[1].set_xlabel('')\n",
    "axes[1].tick_params(axis='x', rotation=45)\n",
    "\n",
    "plt.tight_layout()\n",
    "plt.savefig('../outputs/visualizations/category_analysis.png', dpi=300, bbox_inches='tight')\n",
    "plt.show()"
   ]
  },
  {
   "cell_type": "markdown",
   "metadata": {},
   "source": [
    "## 7. Geographic Analysis"
   ]
  },
  {
   "cell_type": "code",
   "execution_count": null,
   "metadata": {},
   "outputs": [],
   "source": [
    "# Revenue by territory\n",
    "territory_performance = sales_enriched.groupby(['Country', 'Region']).agg({\n",
    "    'Revenue': 'sum',\n",
    "    'Profit': 'sum',\n",
    "    'OrderNumber': 'nunique',\n",
    "    'CustomerKey': 'nunique'\n",
    "}).round(2)\n",
    "\n",
    "territory_performance = territory_performance.sort_values('Revenue', ascending=False)\n",
    "\n",
    "print(\"Territory Performance:\")\n",
    "print(territory_performance)\n",
    "\n",
    "# Visualize top territories\n",
    "top_territories = sales_enriched.groupby('Region')['Revenue'].sum().sort_values(ascending=True).tail(10)\n",
    "\n",
    "plt.figure(figsize=(12, 6))\n",
    "top_territories.plot(kind='barh', color='coral')\n",
    "plt.title('Revenue by Territory (Top 10)', fontsize=14, fontweight='bold')\n",
    "plt.xlabel('Revenue ($)')\n",
    "plt.ylabel('Region')\n",
    "plt.tight_layout()\n",
    "plt.savefig('../outputs/visualizations/territory_analysis.png', dpi=300, bbox_inches='tight')\n",
    "plt.show()"
   ]
  },
  {
   "cell_type": "markdown",
   "metadata": {},
   "source": [
    "## 8. Customer Analysis"
   ]
  },
  {
   "cell_type": "code",
   "execution_count": null,
   "metadata": {},
   "outputs": [],
   "source": [
    "# Customer demographics\n",
    "print(\"Customer Demographics:\")\n",
    "print(\"\\nGender Distribution:\")\n",
    "print(customers['Gender'].value_counts())\n",
    "\n",
    "print(\"\\nMarital Status:\")\n",
    "print(customers['MaritalStatus'].value_counts())\n",
    "\n",
    "print(\"\\nEducation Level:\")\n",
    "print(customers['EducationLevel'].value_counts())\n",
    "\n",
    "print(\"\\nOccupation:\")\n",
    "print(customers['Occupation'].value_counts())\n",
    "\n",
    "print(\"\\nHome Ownership:\")\n",
    "print(customers['HomeOwner'].value_counts())"
   ]
  },
  {
   "cell_type": "code",
   "execution_count": null,
   "metadata": {},
   "outputs": [],
   "source": [
    "# Customer purchase behavior\n",
    "customer_behavior = sales_enriched.groupby('CustomerKey').agg({\n",
    "    'Revenue': 'sum',\n",
    "    'OrderNumber': 'nunique',\n",
    "    'OrderQuantity': 'sum',\n",
    "    'OrderDate': ['min', 'max']\n",
    "}).reset_index()\n",
    "\n",
    "customer_behavior.columns = ['CustomerKey', 'TotalRevenue', 'OrderCount', 'TotalQuantity', 'FirstPurchase', 'LastPurchase']\n",
    "customer_behavior['AvgOrderValue'] = customer_behavior['TotalRevenue'] / customer_behavior['OrderCount']\n",
    "\n",
    "print(\"Customer Behavior Summary:\")\n",
    "print(customer_behavior.describe())\n",
    "\n",
    "# Top customers\n",
    "print(\"\\nTop 10 Customers by Revenue:\")\n",
    "print(customer_behavior.nlargest(10, 'TotalRevenue')[['CustomerKey', 'TotalRevenue', 'OrderCount', 'AvgOrderValue']])"
   ]
  },
  {
   "cell_type": "markdown",
   "metadata": {},
   "source": [
    "## 9. Product Analysis"
   ]
  },
  {
   "cell_type": "code",
   "execution_count": null,
   "metadata": {},
   "outputs": [],
   "source": [
    "# Top products\n",
    "product_performance = sales_enriched.groupby(['ProductName', 'CategoryName']).agg({\n",
    "    'Revenue': 'sum',\n",
    "    'OrderQuantity': 'sum',\n",
    "    'Profit': 'sum'\n",
    "}).reset_index()\n",
    "\n",
    "product_performance = product_performance.sort_values('Revenue', ascending=False)\n",
    "\n",
    "print(\"Top 20 Products by Revenue:\")\n",
    "print(product_performance.head(20))\n",
    "\n",
    "# Visualize top products\n",
    "top_products = product_performance.head(10)\n",
    "\n",
    "plt.figure(figsize=(12, 8))\n",
    "plt.barh(range(len(top_products)), top_products['Revenue'], color='teal')\n",
    "plt.yticks(range(len(top_products)), top_products['ProductName'], fontsize=10)\n",
    "plt.xlabel('Revenue ($)', fontsize=12)\n",
    "plt.title('Top 10 Products by Revenue', fontsize=14, fontweight='bold')\n",
    "plt.gca().invert_yaxis()\n",
    "plt.tight_layout()\n",
    "plt.savefig('../outputs/visualizations/top_products.png', dpi=300, bbox_inches='tight')\n",
    "plt.show()"
   ]
  },
  {
   "cell_type": "markdown",
   "metadata": {},
   "source": [
    "## 10. Returns Analysis"
   ]
  },
  {
   "cell_type": "code",
   "execution_count": null,
   "metadata": {},
   "outputs": [],
   "source": [
    "# Merge returns with products\n",
    "returns_enriched = returns.merge(products_full, on='ProductKey', how='left')\n",
    "\n",
    "# Return analysis\n",
    "print(\"Returns Overview:\")\n",
    "print(f\"Total Returns: {returns['ReturnQuantity'].sum():,}\")\n",
    "print(f\"Total Orders Returned: {returns.shape[0]:,}\")\n",
    "print(f\"\\nReturn Rate: {(returns['ReturnQuantity'].sum() / sales_enriched['OrderQuantity'].sum() * 100):.2f}%\")\n",
    "\n",
    "# Returns by category\n",
    "returns_by_category = returns_enriched.groupby('CategoryName')['ReturnQuantity'].sum().sort_values(ascending=False)\n",
    "print(\"\\nReturns by Category:\")\n",
    "print(returns_by_category)\n",
    "\n",
    "# Calculate return rate by product\n",
    "product_sales = sales_enriched.groupby('ProductKey')['OrderQuantity'].sum()\n",
    "product_returns = returns.groupby('ProductKey')['ReturnQuantity'].sum()\n",
    "return_rate_df = pd.DataFrame({\n",
    "    'Sales': product_sales,\n",
    "    'Returns': product_returns\n",
    "}).fillna(0)\n",
    "return_rate_df['ReturnRate_%'] = (return_rate_df['Returns'] / return_rate_df['Sales'] * 100).round(2)\n",
    "return_rate_df = return_rate_df.sort_values('ReturnRate_%', ascending=False)\n",
    "\n",
    "print(\"\\nProducts with Highest Return Rates:\")\n",
    "print(return_rate_df.head(10))"
   ]
  },
  {
   "cell_type": "markdown",
   "metadata": {},
   "source": [
    "## 11. Save Enriched Dataset"
   ]
  },
  {
   "cell_type": "code",
   "execution_count": null,
   "metadata": {},
   "outputs": [],
   "source": [
    "# Save enriched sales data for modeling\n",
    "sales_enriched.to_csv('../data/processed/AdventureWorks_Sales_Enriched.csv', index=False)\n",
    "print(\"✓ Enriched sales data saved to: data/processed/AdventureWorks_Sales_Enriched.csv\")\n",
    "\n",
    "# Save customer behavior data\n",
    "customer_behavior.to_csv('../data/processed/AdventureWorks_Customer_Behavior.csv', index=False)\n",
    "print(\"✓ Customer behavior data saved to: data/processed/AdventureWorks_Customer_Behavior.csv\")\n",
    "\n",
    "print(\"\\nData exploration complete!\")"
   ]
  },
  {
   "cell_type": "markdown",
   "metadata": {},
   "source": [
    "## Summary\n",
    "\n",
    "### Key Findings:\n",
    "1. **Sales Growth**: Strong growth from 2015 to 2017\n",
    "2. **Product Categories**: Identify which categories drive the most revenue\n",
    "3. **Geographic Distribution**: Territory performance varies significantly\n",
    "4. **Customer Behavior**: Understand purchase patterns and customer value\n",
    "5. **Returns**: Monitor return rates by product and category\n",
    "\n",
    "### Next Steps:\n",
    "1. Build revenue forecasting models\n",
    "2. Develop churn prediction model\n",
    "3. Create return risk scoring system\n",
    "4. Customer segmentation analysis"
   ]
  }
 ],
 "metadata": {
  "kernelspec": {
   "display_name": "Python 3",
   "language": "python",
   "name": "python3"
  },
  "language_info": {
   "codemirror_mode": {
    "name": "ipython",
    "version": 3
   },
   "file_extension": ".py",
   "mimetype": "text/x-python",
   "name": "python",
   "nbconvert_exporter": "python",
   "pygments_lexer": "ipython3",
   "version": "3.13.1"
  }
 },
 "nbformat": 4,
 "nbformat_minor": 4
}
